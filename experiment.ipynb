{
 "metadata": {
  "name": "",
  "signature": "sha256:ddde04db65977a0171d1f1292bbcf45ca5393a020d0db81eb8136ba1182207c1"
 },
 "nbformat": 3,
 "nbformat_minor": 0,
 "worksheets": [
  {
   "cells": [
    {
     "cell_type": "code",
     "collapsed": false,
     "input": [
      "import numpy as np\n",
      "import matplotlib.pyplot as plt\n",
      "import seaborn as sns"
     ],
     "language": "python",
     "metadata": {},
     "outputs": [],
     "prompt_number": 1
    },
    {
     "cell_type": "code",
     "collapsed": false,
     "input": [
      "from sklearn.feature_extraction.text import CountVectorizer, TfidfVectorizer\n",
      "from sklearn.datasets import samples_generator\n",
      "from sklearn import svm\n",
      "from sklearn.pipeline import Pipeline\n",
      "from sklearn.pipeline import FeatureUnion\n",
      "from sklearn.cross_validation import StratifiedKFold, permutation_test_score"
     ],
     "language": "python",
     "metadata": {},
     "outputs": [],
     "prompt_number": 6
    },
    {
     "cell_type": "code",
     "collapsed": false,
     "input": [
      "from utils.sax import SAX\n",
      "from utils.SAXTransformer import SAXTransformer"
     ],
     "language": "python",
     "metadata": {},
     "outputs": [],
     "prompt_number": 2
    },
    {
     "cell_type": "code",
     "collapsed": false,
     "input": [
      "X = []\n",
      "y = []\n",
      "with open('data/synthetic_control_TRAIN.txt') as infile:\n",
      "    for i in infile:\n",
      "        instance = []\n",
      "        for j in i.split():\n",
      "            instance.append(float(j))\n",
      "        X.append(np.array(instance[1:]))\n",
      "        y.append(instance[0])\n",
      "X = np.array(X)\n",
      "y = np.array(y)"
     ],
     "language": "python",
     "metadata": {},
     "outputs": [],
     "prompt_number": 4
    },
    {
     "cell_type": "code",
     "collapsed": false,
     "input": [
      "base_pipe = Pipeline([('saxizer', SAXTransformer(points_per_symbol=1)),\n",
      "                     ('features', FeatureUnion([('countvect', CountVectorizer(min_df=1, analyzer='char', ngram_range=(1, 10))),\n",
      "                                                ('tfidfvect', TfidfVectorizer(min_df=1, analyzer='char', ngram_range=(1, 2)))])),\n",
      "                     ('svc', svm.LinearSVC())])\n",
      "\n",
      "bop_pipe = Pipeline([('saxizer', SAXTransformer(points_per_symbol=1)),\n",
      "                     ('features', FeatureUnion([('countvect', CountVectorizer(min_df=1, analyzer='char', ngram_range=(1, 10))),\n",
      "                                                ('tfidfvect', TfidfVectorizer(min_df=1, analyzer='char', ngram_range=(1, 2)))])),\n",
      "                     ('svc', svm.LinearSVC())])\n",
      "\n",
      "\n",
      "for i in [bop_pipe, base_pipe]:\n",
      "    score, permutation_scores, pvalue = permutation_test_score(\n",
      "        i, X, y, scoring=\"accuracy\", cv=StratifiedKFold(y, 2), n_permutations=5, n_jobs=4)\n",
      "    print(\"Score %s (pvalue : %s)\" % (score, pvalue))"
     ],
     "language": "python",
     "metadata": {},
     "outputs": [
      {
       "output_type": "stream",
       "stream": "stdout",
       "text": [
        "Score 0.886666666667 (pvalue : 0.166666666667)\n"
       ]
      },
      {
       "output_type": "stream",
       "stream": "stdout",
       "text": [
        "Score 0.886666666667 (pvalue : 0.166666666667)\n"
       ]
      }
     ],
     "prompt_number": 7
    },
    {
     "cell_type": "code",
     "collapsed": false,
     "input": [],
     "language": "python",
     "metadata": {},
     "outputs": []
    }
   ],
   "metadata": {}
  }
 ]
}